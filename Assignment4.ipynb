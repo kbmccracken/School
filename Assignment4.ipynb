{
  "nbformat": 4,
  "nbformat_minor": 0,
  "metadata": {
    "colab": {
      "provenance": []
    },
    "kernelspec": {
      "name": "python3",
      "display_name": "Python 3"
    },
    "language_info": {
      "name": "python"
    }
  },
  "cells": [
    {
      "cell_type": "markdown",
      "source": [
        "# Instructions\n",
        "\n",
        "* Add your code as indicated in each cell.\n",
        "* You can add as many cells as you want to experiment with your code and get your code right. Once you are done, remove the cells you have added and keep the original cells.\n",
        "* Do not alter/delete cells that state **\"Do not change or delete this cell\".**\n",
        "* Before you turn this in, make sure everything runs as expected.\n",
        "> * Start from the very first cell, run all cells one by one, including the cell that computes your total score for this assignment.\n",
        "> * If you cannot program a specific question and get an error, still run its cell and go to the next cell and keep running it.\n",
        "* All work must be your own. I use a plagiarism check for coding. Copying and pasting code from friends is not allowed.\n",
        "* If you attempt to fake passing the tests, you will receive an F, and it will be considered an ethical violation.\n",
        "* You will need to submit three things:\n",
        "> 1.   ***The link to your Google Colab notebook file***: Submit the link to your notebook file. To do so, click **Share** on the top right-hand side. Then a box will pop-up. You need to change **\"restricted\"** to **\"anyone with the link.\"** Then, copy the link and paste it as a comment when submitting the assignment.\n",
        "> 2.   ***The notebook file***: Download the same file as ipynb. To do so, Go to **File**, select **Download**. Then Click on **ipynb** on the menu box.\n",
        "> 3.   ***The pdf version of your notebook file***: Download the same file as pdf. To do so, Go to **File**, select **Print**,A menu box will pop up. Then Click on **PDF** on the menu box. This will convert the file into a PDF file, instead of printing it using a printer.\n"
      ],
      "metadata": {
        "id": "t6DfRWwoR7Kr"
      }
    },
    {
      "cell_type": "markdown",
      "source": [
        "# Background\n",
        "* This dataset contains detailed information on car sales, including the year, make, model, trim, body type, transmission type, VIN, state, condition, odometer reading, color, interior color, seller, market price (mmr), selling price, and sale date.\n",
        "* Data scientists can leverage this dataset to inform business decisions by analyzing trends in car sales over time, including which makes and models are most popular, how vehicle age and mileage affect selling price, and the impact of vehicle condition on market value.\n",
        "* Additionally, they could assess regional differences in car sales and preferences, evaluate the performance of different sellers, and identify optimal times for selling certain types of vehicles. This analysis can help businesses in the automotive industry to tailor their inventory, pricing strategies, and marketing efforts to meet market demand and maximize profitability"
      ],
      "metadata": {
        "id": "rQ3G6lE1u7tT"
      }
    },
    {
      "cell_type": "markdown",
      "source": [
        "# Run Cell Below to Store Your Assignment Score"
      ],
      "metadata": {
        "id": "WImZ0gNHR7t3"
      }
    },
    {
      "cell_type": "code",
      "source": [
        "### RUN THIS CELL\n",
        "### DO NOT CHANGE OR DELETE THIS CELL\n",
        "### CHANGING OR DELETING THIS CELL MAY IMPACT YOUR GRADE\n",
        "### AGAIN - DO NOT CHANGE OR DELETE THIS CELL\n",
        "\n",
        "score = {}"
      ],
      "metadata": {
        "id": "MqSew6jPSKiF"
      },
      "execution_count": null,
      "outputs": []
    },
    {
      "cell_type": "markdown",
      "source": [
        "# Run Cell Below to Read the Dataset\n"
      ],
      "metadata": {
        "id": "6fS08x0cSOLH"
      }
    },
    {
      "cell_type": "code",
      "source": [
        "### RUN THIS CELL\n",
        "### DO NOT CHANGE OR DELETE THIS CELL\n",
        "### CHANGING OR DELETING THIS CELL MAY IMPACT YOUR GRADE\n",
        "### AGAIN - DO NOT CHANGE OR DELETE THIS CELL\n",
        "\n",
        "import pandas as pd\n",
        "import numpy as np\n",
        "\n",
        "# Read the CSV file using Pandas (pd)\n",
        "url = 'https://drive.google.com/file/d/1VFEdkLia08IRtTwwAoxYE4X0Xi_tVCi1/view?usp=sharing'\n",
        "# Extracting the file ID from the URL\n",
        "file_id = url.split('/')[-2]\n",
        "# Constructing the download link for the file\n",
        "download_link = 'https://drive.google.com/uc?export=download&id=' + file_id\n",
        "# Reading the CSV file from the provided link\n",
        "df = pd.read_csv(download_link)\n",
        "\n",
        "# If you get a G-Drive Download limit reached warning,\n",
        "# Download the car_prices dataset from canvas\n",
        "# upload it to you current session and then run the below code\n",
        "\n",
        "#df = pd.read_csv('/content/car_prices.csv')"
      ],
      "metadata": {
        "id": "YV7dzgeRSSfM"
      },
      "execution_count": null,
      "outputs": []
    },
    {
      "cell_type": "code",
      "source": [
        "### RUN THIS CELL\n",
        "### DO NOT CHANGE OR DELETE THIS CELL\n",
        "### CHANGING OR DELETING THIS CELL MAY IMPACT YOUR GRADE\n",
        "### AGAIN - DO NOT CHANGE OR DELETE THIS CELL\n",
        "\n",
        "### do not worry about this part - we will learn in the next modules\n",
        "### just replacing missing values\n",
        "\n",
        "num_var = df.select_dtypes(include=['int64', 'float64']).columns.tolist()\n",
        "cat_var = df.select_dtypes(include=['object']).columns.tolist()\n",
        "for i in num_var:\n",
        "  df.loc[:, i] = df.loc[:, i].fillna(df.loc[:, i].mean())\n",
        "for i in cat_var:\n",
        "  df.loc[:, i] = df.loc[:, i].fillna(df.loc[:, i].mode()[0])\n",
        "df.head(3)"
      ],
      "metadata": {
        "id": "zkruU1HM0FEr"
      },
      "execution_count": null,
      "outputs": []
    },
    {
      "cell_type": "markdown",
      "source": [
        "# Question 1\n",
        "\n",
        "* Convert the entries in all of the categorical variables into lower case. You will need to identify the categorical variables, and convert the values within these these categorical varaibles into lowercase. (For example, the make column may have Honda and HONDA and honda, after this step, all should be honda.)\n",
        "* Do not create a new dataset. The changes should be saved in the same dataset df\n"
      ],
      "metadata": {
        "id": "-0nHF63mS-QT"
      }
    },
    {
      "cell_type": "code",
      "source": [
        "###\n",
        "### YOUR CODE HERE\n",
        "###\n"
      ],
      "metadata": {
        "id": "4iC6x6SwToxB"
      },
      "execution_count": null,
      "outputs": []
    },
    {
      "cell_type": "code",
      "source": [
        "### RUN THIS CELL\n",
        "### DO NOT CHANGE OR DELETE THIS CELL\n",
        "### CHANGING OR DELETING THIS CELL MAY IMPACT YOUR GRADE\n",
        "### AGAIN - DO NOT CHANGE OR DELETE THIS CELL\n",
        "\n",
        "df.head(2)"
      ],
      "metadata": {
        "id": "XHRhls-pUWeL"
      },
      "execution_count": null,
      "outputs": []
    },
    {
      "cell_type": "markdown",
      "source": [
        "**Question 1 test case is below**"
      ],
      "metadata": {
        "id": "uKK47jcMUfU_"
      }
    },
    {
      "cell_type": "code",
      "source": [
        "### RUN THIS CELL\n",
        "### DO NOT CHANGE OR DELETE THIS CELL\n",
        "### CHANGING OR DELETING THIS CELL MAY IMPACT YOUR GRADE\n",
        "### AGAIN - DO NOT CHANGE OR DELETE THIS CELL\n",
        "\n",
        "try:\n",
        "    if ((df.make[558832] == 'kia') and (df.make[4] == 'bmw') and \\\n",
        "     (df.model[558832] == 'k900') and (df.model[4] == '6 series gran coupe')):\n",
        "        score['question 1'] = 'pass'\n",
        "    else:\n",
        "        score['question 1'] = 'fail'\n",
        "except:\n",
        "    score['question 1'] = 'fail'\n",
        "\n",
        "score"
      ],
      "metadata": {
        "id": "Z0NTnn_6UdCK"
      },
      "execution_count": null,
      "outputs": []
    },
    {
      "cell_type": "markdown",
      "source": [
        "# Question 2\n",
        "* What is the number of cars sold in 2014 and 2015?\n",
        "* Create a new column `saleyear` by extracting the year from 'saledate'.\n",
        "* Create two variables `sales_2014` and `sales_2015`. These variables should hold the numbers of cars sold in that particular year.\n",
        "\n"
      ],
      "metadata": {
        "id": "dFGW_qM6UyrI"
      }
    },
    {
      "cell_type": "code",
      "source": [
        "###\n",
        "### YOUR CODE HERE\n",
        "###\n"
      ],
      "metadata": {
        "id": "IbtMmnZOUzOK"
      },
      "execution_count": null,
      "outputs": []
    },
    {
      "cell_type": "code",
      "source": [
        "### RUN THIS CELL\n",
        "### DO NOT CHANGE OR DELETE THIS CELL\n",
        "### CHANGING OR DELETING THIS CELL MAY IMPACT YOUR GRADE\n",
        "### AGAIN - DO NOT CHANGE OR DELETE THIS CELL\n",
        "\n",
        "print(sales_2014)\n",
        "print(sales_2015)"
      ],
      "metadata": {
        "id": "vtZXTX98WTlm"
      },
      "execution_count": null,
      "outputs": []
    },
    {
      "cell_type": "markdown",
      "source": [
        "**Question 2 test case is below**"
      ],
      "metadata": {
        "id": "CnRiRH0TWmrb"
      }
    },
    {
      "cell_type": "code",
      "source": [
        "### RUN THIS CELL\n",
        "### DO NOT CHANGE OR DELETE THIS CELL\n",
        "### CHANGING OR DELETING THIS CELL MAY IMPACT YOUR GRADE\n",
        "### AGAIN - DO NOT CHANGE OR DELETE THIS CELL\n",
        "\n",
        "try:\n",
        "    if ((sales_2014 == 53727) & (sales_2015 == 505084)):\n",
        "        score['question 2'] = 'pass'\n",
        "    else:\n",
        "        score['question 2'] = 'fail'\n",
        "except:\n",
        "    score['question 2'] = 'fail'\n",
        "\n",
        "score"
      ],
      "metadata": {
        "id": "tgM0zt2mV2oB"
      },
      "execution_count": null,
      "outputs": []
    },
    {
      "cell_type": "markdown",
      "source": [
        "# Question 3\n",
        "* Group the dataset by `state` and `body`, calculating the average `sellingprice` for each group.\n",
        "* Identify the state with the highest average price for cars that are SUVs.\n",
        "* Save this value to a variable titles `state_highest_price_suv`"
      ],
      "metadata": {
        "id": "OeqL-eyxW6h5"
      }
    },
    {
      "cell_type": "code",
      "source": [
        "###\n",
        "### YOUR CODE HERE\n",
        "###\n"
      ],
      "metadata": {
        "id": "X2tJiKupXK5s"
      },
      "execution_count": null,
      "outputs": []
    },
    {
      "cell_type": "code",
      "source": [
        "### RUN THIS CELL\n",
        "### DO NOT CHANGE OR DELETE THIS CELL\n",
        "### CHANGING OR DELETING THIS CELL MAY IMPACT YOUR GRADE\n",
        "### AGAIN - DO NOT CHANGE OR DELETE THIS CELL\n",
        "\n",
        "print(state_highest_price_suv)"
      ],
      "metadata": {
        "id": "ThnDdO7DXa_1"
      },
      "execution_count": null,
      "outputs": []
    },
    {
      "cell_type": "markdown",
      "source": [
        "**Question 3 test case is below**"
      ],
      "metadata": {
        "id": "lHS5V9bWXZx2"
      }
    },
    {
      "cell_type": "code",
      "source": [
        "### RUN THIS CELL\n",
        "### DO NOT CHANGE OR DELETE THIS CELL\n",
        "### CHANGING OR DELETING THIS CELL MAY IMPACT YOUR GRADE\n",
        "### AGAIN - DO NOT CHANGE OR DELETE THIS CELL\n",
        "\n",
        "try:\n",
        "    if state_highest_price_suv == 'on':\n",
        "        score['question 3'] = 'pass'\n",
        "    else:\n",
        "        score['question 3'] = 'fail'\n",
        "except:\n",
        "    score['question 3'] = 'fail'\n",
        "\n",
        "score"
      ],
      "metadata": {
        "id": "JZ0l2P9qXagI"
      },
      "execution_count": null,
      "outputs": []
    },
    {
      "cell_type": "markdown",
      "source": [
        "# Question 4\n",
        "* Work on the potential implications of trim naming conventions on branding and customer perception\n",
        "* Create a new column `trim_length` that stores the length of the string in the `trim` column.\n",
        "* Find the pearson correlation between sellingprices and trim_length for cars made by `Ford` versus `Chevrolet`. Save the result to a variable named `res` (`res should hold the correlation and p values)\n",
        "* What is the correlation coeffcient and is the correlation significant"
      ],
      "metadata": {
        "id": "IezcmujeX6Ze"
      }
    },
    {
      "cell_type": "code",
      "source": [
        "###\n",
        "### YOUR CODE HERE\n",
        "###"
      ],
      "metadata": {
        "id": "B61JZH8zYKrS"
      },
      "execution_count": null,
      "outputs": []
    },
    {
      "cell_type": "code",
      "source": [
        "### RUN THIS CELL\n",
        "### DO NOT CHANGE OR DELETE THIS CELL\n",
        "### CHANGING OR DELETING THIS CELL MAY IMPACT YOUR GRADE\n",
        "### AGAIN - DO NOT CHANGE OR DELETE THIS CELL\n",
        "\n",
        "print(res)"
      ],
      "metadata": {
        "id": "WBYcct-2YVGX"
      },
      "execution_count": null,
      "outputs": []
    },
    {
      "cell_type": "markdown",
      "source": [
        "**Question 4 test case is below**"
      ],
      "metadata": {
        "id": "YwZd0D-JYVYy"
      }
    },
    {
      "cell_type": "code",
      "source": [
        "### RUN THIS CELL\n",
        "### DO NOT CHANGE OR DELETE THIS CELL\n",
        "### CHANGING OR DELETING THIS CELL MAY IMPACT YOUR GRADE\n",
        "### AGAIN - DO NOT CHANGE OR DELETE THIS CELL\n",
        "\n",
        "try:\n",
        "    if ((np.round(res.statistic, 2) == 0.13) & (np.round(res.pvalue, 2) == 0)):\n",
        "        score['question 4'] = 'pass'\n",
        "    else:\n",
        "        score['question 4'] = 'fail'\n",
        "except:\n",
        "    score['question 4'] = 'fail'\n",
        "\n",
        "score"
      ],
      "metadata": {
        "id": "OmuDI11xYa4o"
      },
      "execution_count": null,
      "outputs": []
    },
    {
      "cell_type": "markdown",
      "source": [
        "# Question 5\n",
        "* The `transmission` column have values `automatic` and `manual`.\n",
        "* Test the hypothesis that the mean selling price of cars with automatic transmission is greater than those with manual transmission using a t-test.\n",
        "* State the hypothesis using the comment sign (#) before your code in the same cell\n",
        "* Perform the test using the scipy library and save the test result to a variable called `test_res`\n",
        "* What is the decision you will make?"
      ],
      "metadata": {
        "id": "IkYORTFjY0Q2"
      }
    },
    {
      "cell_type": "code",
      "source": [
        "###\n",
        "### YOUR CODE HERE\n",
        "###"
      ],
      "metadata": {
        "id": "ZziPDtWzZb9Y"
      },
      "execution_count": null,
      "outputs": []
    },
    {
      "cell_type": "code",
      "source": [
        "### RUN THIS CELL\n",
        "### DO NOT CHANGE OR DELETE THIS CELL\n",
        "### CHANGING OR DELETING THIS CELL MAY IMPACT YOUR GRADE\n",
        "### AGAIN - DO NOT CHANGE OR DELETE THIS CELL\n",
        "\n",
        "test_res"
      ],
      "metadata": {
        "id": "6rvo04bXZkYo"
      },
      "execution_count": null,
      "outputs": []
    },
    {
      "cell_type": "markdown",
      "source": [
        "**Question 5 test case is below**"
      ],
      "metadata": {
        "id": "FOX7CDabZr1C"
      }
    },
    {
      "cell_type": "code",
      "source": [
        "### RUN THIS CELL\n",
        "### DO NOT CHANGE OR DELETE THIS CELL\n",
        "### CHANGING OR DELETING THIS CELL MAY IMPACT YOUR GRADE\n",
        "### AGAIN - DO NOT CHANGE OR DELETE THIS CELL\n",
        "\n",
        "try:\n",
        "    if ((round(test_res.statistic,2) == 33.16) & (round(test_res.pvalue,2)== 0)):\n",
        "        score['question 5'] = 'pass'\n",
        "    else:\n",
        "        score['question 5'] = 'fail'\n",
        "except:\n",
        "    score['question 5'] = 'fail'\n",
        "\n",
        "score"
      ],
      "metadata": {
        "id": "SezQD0nfZsLD"
      },
      "execution_count": null,
      "outputs": []
    },
    {
      "cell_type": "markdown",
      "source": [
        "# Question 6\n",
        "* Test the hypothesis about the impact of car color on selling price.\n",
        "* Assume that `black` and `white` are premium colors.\n",
        "* State the hypothesis to compare the mean selling prices of black and white cars against cars of other colors using the comment sign (#) before your code in the same cell.\n",
        "> * Your alternative hypothesis should be average selling price of black and white cars is greater than other colors.\n",
        "* Perform the test using the scipy library and save the test result to a variable called `test_res`. (Note: Assume equal variances)\n",
        "* What is the decision you will make?"
      ],
      "metadata": {
        "id": "fsmcV7RiaCs_"
      }
    },
    {
      "cell_type": "code",
      "source": [
        "###\n",
        "### YOUR CODE HERE\n",
        "###\n"
      ],
      "metadata": {
        "id": "NJccvtMtaIQN"
      },
      "execution_count": null,
      "outputs": []
    },
    {
      "cell_type": "code",
      "source": [
        "### RUN THIS CELL\n",
        "### DO NOT CHANGE OR DELETE THIS CELL\n",
        "### CHANGING OR DELETING THIS CELL MAY IMPACT YOUR GRADE\n",
        "### AGAIN - DO NOT CHANGE OR DELETE THIS CELL\n",
        "\n",
        "test_res"
      ],
      "metadata": {
        "id": "ZrPdWkx3aJ6M"
      },
      "execution_count": null,
      "outputs": []
    },
    {
      "cell_type": "markdown",
      "source": [
        "**Question 6 test case is below**"
      ],
      "metadata": {
        "id": "bFG3Gs3qaI5Q"
      }
    },
    {
      "cell_type": "code",
      "source": [
        "### RUN THIS CELL\n",
        "### DO NOT CHANGE OR DELETE THIS CELL\n",
        "### CHANGING OR DELETING THIS CELL MAY IMPACT YOUR GRADE\n",
        "### AGAIN - DO NOT CHANGE OR DELETE THIS CELL\n",
        "\n",
        "try:\n",
        "    if ((round(test_res.statistic,2) == 95.70) & (round(test_res.pvalue,2)== 0)):\n",
        "        score['question 6'] = 'pass'\n",
        "    else:\n",
        "        score['question 6'] = 'fail'\n",
        "except:\n",
        "    score['question 6'] = 'fail'\n",
        "\n",
        "score"
      ],
      "metadata": {
        "id": "mIkVXWtDaH7i"
      },
      "execution_count": null,
      "outputs": []
    },
    {
      "cell_type": "markdown",
      "source": [
        "# Question 7\n",
        "* Using the `saledata` variable, extract the fiscal quarter.\n",
        "* You will need to add a new variable called `quarter` to the dataframe df.\n",
        "> * If month is jan, feb, mar; then the quarter is 1. If month is apr, may, jun; quarter is 2, etc.\n",
        "* Analyze sales trends over different quarters to determine if there are peak periods for car sales.\n",
        "> * find the average of sellingprice grouped by quarter. Save this data to a variable named `rice_by_quarter`\n"
      ],
      "metadata": {
        "id": "anxgwa5Ga3Gz"
      }
    },
    {
      "cell_type": "code",
      "source": [
        "###\n",
        "### YOUR CODE HERE\n",
        "###\n"
      ],
      "metadata": {
        "id": "HLi8pB4UU2C-"
      },
      "execution_count": null,
      "outputs": []
    },
    {
      "cell_type": "code",
      "source": [
        "### RUN THIS CELL\n",
        "### DO NOT CHANGE OR DELETE THIS CELL\n",
        "### CHANGING OR DELETING THIS CELL MAY IMPACT YOUR GRADE\n",
        "### AGAIN - DO NOT CHANGE OR DELETE THIS CELL\n",
        "\n",
        "print(price_by_quarter[1])\n",
        "print(price_by_quarter[2])\n",
        "print(price_by_quarter[3])\n",
        "print(price_by_quarter[4])"
      ],
      "metadata": {
        "id": "uwOUqmxuieen"
      },
      "execution_count": null,
      "outputs": []
    },
    {
      "cell_type": "markdown",
      "source": [
        "**Question 7 test case is below**"
      ],
      "metadata": {
        "id": "rRcUww2plDNt"
      }
    },
    {
      "cell_type": "code",
      "source": [
        "### RUN THIS CELL\n",
        "### DO NOT CHANGE OR DELETE THIS CELL\n",
        "### CHANGING OR DELETING THIS CELL MAY IMPACT YOUR GRADE\n",
        "### AGAIN - DO NOT CHANGE OR DELETE THIS CELL\n",
        "\n",
        "try:\n",
        "    if ((np.round(price_by_quarter[1], 0) == 13459) & (np.round(price_by_quarter[4], 0) == 11295)):\n",
        "        score['question 7'] = 'pass'\n",
        "    else:\n",
        "        score['question 7'] = 'fail'\n",
        "except:\n",
        "    score['question 7'] = 'fail'\n",
        "\n",
        "score"
      ],
      "metadata": {
        "id": "9eadmlPoijww"
      },
      "execution_count": null,
      "outputs": []
    },
    {
      "cell_type": "markdown",
      "source": [
        "# Question 8\n",
        "\n",
        "* Using the `saledata` variable, extract the fiscal quarter.\n",
        "> * You will need to add a new variable called `quarter` to the dataframe df.\n",
        "* Using the `sellingprice` variable, define high-value purchases as those above the 75th percentile of 'sellingprice'.\n",
        "> * You will need to add a new variable named `highvalue` to the dataframe df. The `highvalue` variable will be 1 if sellingprice is greater or equal to .75 percentile, otherwise 0.\n",
        "* Group the data by sale quarter and count the number of high-value purchases in each quarter. Save this data to a variable called `highvalue_by_quarter`\n",
        "* Conduct an ANOVA test to determine if there's a significant difference in the number of high-value purchases across quarters. Save the result to a variable called `anova_res`\n",
        "* Provide insights as comments"
      ],
      "metadata": {
        "id": "d_vM_ZYOiy8i"
      }
    },
    {
      "cell_type": "code",
      "source": [
        "###\n",
        "### YOUR CODE HERE\n",
        "###\n"
      ],
      "metadata": {
        "id": "t0K0Q0XTi_sR"
      },
      "execution_count": null,
      "outputs": []
    },
    {
      "cell_type": "code",
      "source": [
        "### RUN THIS CELL\n",
        "### DO NOT CHANGE OR DELETE THIS CELL\n",
        "### CHANGING OR DELETING THIS CELL MAY IMPACT YOUR GRADE\n",
        "### AGAIN - DO NOT CHANGE OR DELETE THIS CELL\n",
        "\n",
        "print(highvalue_by_quarter[1])\n",
        "print(highvalue_by_quarter[2])\n",
        "print(highvalue_by_quarter[3])\n",
        "print(highvalue_by_quarter[4])\n",
        "print(anova_res.statistic)\n",
        "print(anova_res.pvalue)"
      ],
      "metadata": {
        "id": "GRfFXijZjHtb"
      },
      "execution_count": null,
      "outputs": []
    },
    {
      "cell_type": "markdown",
      "source": [
        "**Question 8 test case is below**"
      ],
      "metadata": {
        "id": "WX8bm-dQlJSm"
      }
    },
    {
      "cell_type": "code",
      "source": [
        "### RUN THIS CELL\n",
        "### DO NOT CHANGE OR DELETE THIS CELL\n",
        "### CHANGING OR DELETING THIS CELL MAY IMPACT YOUR GRADE\n",
        "### AGAIN - DO NOT CHANGE OR DELETE THIS CELL\n",
        "\n",
        "try:\n",
        "    if ((highvalue_by_quarter[1] == 85296) & (highvalue_by_quarter[3] == 478) & \\\n",
        "     (np.round(anova_res.statistic, 0) > 859) & (np.round(anova_res.statistic, 0) < 865)):\n",
        "        score['question 8'] = 'pass'\n",
        "    else:\n",
        "        score['question 8'] = 'fail'\n",
        "except:\n",
        "      score['question 8'] = 'fail'\n",
        "\n",
        "score"
      ],
      "metadata": {
        "id": "e0RVaTomjLkC"
      },
      "execution_count": null,
      "outputs": []
    },
    {
      "cell_type": "markdown",
      "source": [
        "# Question 9\n",
        "* Create a new variable called `odo_category` in the dataframe df\n",
        "* Categorize the 'odometer' readings into 1, 2, and 3 based on quantiles (0-33rd percentile should be 1, 34th-66th percentile should be 2, 67th-100th percentile should be 3). Save these values in the variable `odo_category`\n",
        "* Perform a correlation analysis to see the correlation between odo_category and selling price\n",
        "* Save the result to `corr_res` variable\n",
        "* Put your comments about the results"
      ],
      "metadata": {
        "id": "VUGjuuuNjc9D"
      }
    },
    {
      "cell_type": "code",
      "source": [
        "###\n",
        "### YOUR CODE HERE\n",
        "###\n"
      ],
      "metadata": {
        "id": "aWxtNey_jywJ"
      },
      "execution_count": null,
      "outputs": []
    },
    {
      "cell_type": "code",
      "source": [
        "### RUN THIS CELL\n",
        "### DO NOT CHANGE OR DELETE THIS CELL\n",
        "### CHANGING OR DELETING THIS CELL MAY IMPACT YOUR GRADE\n",
        "### AGAIN - DO NOT CHANGE OR DELETE THIS CELL\n",
        "\n",
        "print(res)"
      ],
      "metadata": {
        "id": "HgVanRX6kEzd"
      },
      "execution_count": null,
      "outputs": []
    },
    {
      "cell_type": "markdown",
      "source": [
        "**Question 9 test case is below**"
      ],
      "metadata": {
        "id": "neiPSWDSkJ2L"
      }
    },
    {
      "cell_type": "code",
      "source": [
        "### RUN THIS CELL\n",
        "### DO NOT CHANGE OR DELETE THIS CELL\n",
        "### CHANGING OR DELETING THIS CELL MAY IMPACT YOUR GRADE\n",
        "### AGAIN - DO NOT CHANGE OR DELETE THIS CELL\n",
        "\n",
        "try:\n",
        "    if (np.round(res.statistic, 2) == -.67):\n",
        "        score['question 9'] = 'pass'\n",
        "    else:\n",
        "        score['question 9'] = 'fail'\n",
        "except:\n",
        "      score['question 9'] = 'fail'\n",
        "\n",
        "score"
      ],
      "metadata": {
        "id": "HSbWIgxLkJaF"
      },
      "execution_count": null,
      "outputs": []
    },
    {
      "cell_type": "markdown",
      "source": [
        "# Question 10\n",
        "* Assume you are interested in testing whether the proportion of black cars sold is significantly different from the proportion of white cars sold.\n",
        "* Use the data to perform a proportion test (z-test for proportions) to see if there's a statistically significant difference between the two proportions.\n",
        "* Save the test result to a. variable called `res`"
      ],
      "metadata": {
        "id": "8_ESOT2okgeE"
      }
    },
    {
      "cell_type": "code",
      "source": [
        "###\n",
        "### YOUR CODE HERE\n",
        "###\n",
        "\n"
      ],
      "metadata": {
        "id": "Jm2wPwUamXsx"
      },
      "execution_count": null,
      "outputs": []
    },
    {
      "cell_type": "code",
      "source": [
        "### RUN THIS CELL\n",
        "### DO NOT CHANGE OR DELETE THIS CELL\n",
        "### CHANGING OR DELETING THIS CELL MAY IMPACT YOUR GRADE\n",
        "### AGAIN - DO NOT CHANGE OR DELETE THIS CELL\n",
        "\n",
        "print(res)"
      ],
      "metadata": {
        "id": "xTrLPSXnkhoi"
      },
      "execution_count": null,
      "outputs": []
    },
    {
      "cell_type": "markdown",
      "source": [
        "**Question 10 test case is below**\n",
        "\n",
        "\n"
      ],
      "metadata": {
        "id": "qAswA7iPkf0s"
      }
    },
    {
      "cell_type": "code",
      "source": [
        "### RUN THIS CELL\n",
        "### DO NOT CHANGE OR DELETE THIS CELL\n",
        "### CHANGING OR DELETING THIS CELL MAY IMPACT YOUR GRADE\n",
        "### AGAIN - DO NOT CHANGE OR DELETE THIS CELL\n",
        "\n",
        "try:\n",
        "    if (round(res[0], 2) == 15.27):\n",
        "        score['question 10'] = 'pass'\n",
        "    else:\n",
        "        score['question 10'] = 'fail'\n",
        "except:\n",
        "      score['question 10'] = 'fail'\n",
        "\n",
        "score"
      ],
      "metadata": {
        "id": "G2pHIQIgki7g"
      },
      "execution_count": null,
      "outputs": []
    },
    {
      "cell_type": "markdown",
      "source": [
        "# Total Score\n",
        "* Below Code will give your Total Score. You must run the below code"
      ],
      "metadata": {
        "id": "owvaPgtula6-"
      }
    },
    {
      "cell_type": "code",
      "source": [
        "### RUN THIS CELL\n",
        "### DO NOT CHANGE OR DELETE THIS CELL\n",
        "### CHANGING OR DELETING THIS CELL MAY IMPACT YOUR GRADE\n",
        "### AGAIN - DO NOT CHANGE OR DELETE THIS CELL\n",
        "\n",
        "total_score = 0\n",
        "for i in list(score.values()):\n",
        "    if i=='pass':\n",
        "        total_score = total_score + 10\n",
        "print('your total score is: ', round(total_score))"
      ],
      "metadata": {
        "id": "U4x6dDTNldJn"
      },
      "execution_count": null,
      "outputs": []
    },
    {
      "cell_type": "markdown",
      "source": [
        "* Below will give the indvidual test case results"
      ],
      "metadata": {
        "id": "SQvj7MUXiKhN"
      }
    },
    {
      "cell_type": "code",
      "source": [
        "### RUN THIS CELL\n",
        "### DO NOT CHANGE OR DELETE THIS CELL\n",
        "### CHANGING OR DELETING THIS CELL MAY IMPACT YOUR GRADE\n",
        "### AGAIN - DO NOT CHANGE OR DELETE THIS CELL\n",
        "score"
      ],
      "metadata": {
        "id": "a5IP3DreiKIh"
      },
      "execution_count": null,
      "outputs": []
    }
  ]
}